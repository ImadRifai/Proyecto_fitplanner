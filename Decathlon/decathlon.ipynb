{
 "cells": [
  {
   "cell_type": "markdown",
   "metadata": {},
   "source": [
    "# Imports"
   ]
  },
  {
   "cell_type": "code",
   "execution_count": 221,
   "metadata": {},
   "outputs": [],
   "source": [
    "import requests\n",
    "import json\n",
    "import pandas as pd\n",
    "import matplotlib.pyplot as plt\n",
    "import seaborn as sns\n",
    "from variables import get_headers\n",
    "from statsmodels.formula.api import ols\n",
    "from statsmodels.stats.anova import anova_lm"
   ]
  },
  {
   "cell_type": "markdown",
   "metadata": {},
   "source": [
    "# Petición a la API de Decathlon"
   ]
  },
  {
   "cell_type": "code",
   "execution_count": 164,
   "metadata": {},
   "outputs": [],
   "source": [
    "def get_page_data(headers, payload):\n",
    "    url = \"https://www.decathlon.es/es/ajax/nfs/browse\"\n",
    "    response = requests.post(url, json=payload, headers=headers)\n",
    "    response.raise_for_status()  # Asegurarse de manejar errores HTTP\n",
    "    response = response.json()\n",
    "    return response"
   ]
  },
  {
   "cell_type": "markdown",
   "metadata": {},
   "source": [
    "## Prueba de petición y carga de primera página"
   ]
  },
  {
   "cell_type": "code",
   "execution_count": 222,
   "metadata": {},
   "outputs": [
    {
     "name": "stdout",
     "output_type": "stream",
     "text": [
      "{\"pager\": {\"blocks\": 5460, \"total\": 137, \"current\": 0, \"items\": [{\"id\": \"first\", \"from\": 0, \"size\": \n"
     ]
    }
   ],
   "source": [
    "payload, headers = get_headers(0)\n",
    "response = get_page_data(headers, payload)\n",
    "json_data = json.dumps(response)\n",
    "\n",
    "print(json_data[:100])  # Muestra solo los primeros 100 caracteres\n"
   ]
  },
  {
   "cell_type": "markdown",
   "metadata": {},
   "source": [
    "# Creación del conjunto de datos a partir del JSON descubierto en la red de Decathlon"
   ]
  },
  {
   "cell_type": "code",
   "execution_count": 175,
   "metadata": {},
   "outputs": [],
   "source": [
    "productos = []\n",
    "\n",
    "total_pags = response['pager']['total']\n",
    "\n",
    "for i in range(total_pags):\n",
    "    payload, headers = get_headers(i * 40)\n",
    "    response = get_page_data(headers,payload)\n",
    "    \n",
    "    items = response['blocks']['items']\n",
    "    \n",
    "    for item in items:\n",
    "        brand = item['brand'].get('label', 'No disponible') #Marca\n",
    "        web_label = item.get('webLabel', 'No disponible') #Etiqueta\n",
    "        nature = item.get('natureLabel', 'No disponible') #Naturaleza del producto (tipo)\n",
    "        \n",
    "        model = item['models'][0] #Modelo\n",
    "        price = model.get('price', 'No disponible') #Precio\n",
    "        previous_price = model.get('previousPrice', 'No disponible') #Precio Previo\n",
    "        currency = model.get('currency', 'No disponible') #Moneda\n",
    "        discount_rate = model.get('discountRate', 'No disponible') #Porcentaje de descuento\n",
    "        product_url = model.get('url', 'No disponible') #URL del producto\n",
    "        image_url = model.get('image', {}).get('url', 'No disponible') #URL de la imagen\n",
    "        \n",
    "        productos.append({\n",
    "            'Marca': brand,\n",
    "            'Etiqueta Web': web_label,\n",
    "            'Tipo Producto': nature,\n",
    "            'Precio': price,\n",
    "            'Precio Previo': previous_price,\n",
    "            'Descuento Aplicado (en %)': discount_rate,\n",
    "            'Image URL': image_url,\n",
    "            'Product URL': product_url\n",
    "        })\n",
    "\n",
    "df_productos = pd.DataFrame(productos)"
   ]
  },
  {
   "cell_type": "markdown",
   "metadata": {},
   "source": [
    "# Limpieza de datos"
   ]
  },
  {
   "cell_type": "code",
   "execution_count": 176,
   "metadata": {},
   "outputs": [],
   "source": [
    "df = df_productos"
   ]
  },
  {
   "cell_type": "markdown",
   "metadata": {},
   "source": [
    "### Veamos la forma de nuestro conjunto de datos"
   ]
  },
  {
   "cell_type": "code",
   "execution_count": 177,
   "metadata": {},
   "outputs": [
    {
     "data": {
      "text/html": [
       "<div>\n",
       "<style scoped>\n",
       "    .dataframe tbody tr th:only-of-type {\n",
       "        vertical-align: middle;\n",
       "    }\n",
       "\n",
       "    .dataframe tbody tr th {\n",
       "        vertical-align: top;\n",
       "    }\n",
       "\n",
       "    .dataframe thead th {\n",
       "        text-align: right;\n",
       "    }\n",
       "</style>\n",
       "<table border=\"1\" class=\"dataframe\">\n",
       "  <thead>\n",
       "    <tr style=\"text-align: right;\">\n",
       "      <th></th>\n",
       "      <th>Marca</th>\n",
       "      <th>Etiqueta Web</th>\n",
       "      <th>Tipo Producto</th>\n",
       "      <th>Precio</th>\n",
       "      <th>Precio Previo</th>\n",
       "      <th>Descuento Aplicado (en %)</th>\n",
       "      <th>Image URL</th>\n",
       "      <th>Product URL</th>\n",
       "    </tr>\n",
       "  </thead>\n",
       "  <tbody>\n",
       "    <tr>\n",
       "      <th>0</th>\n",
       "      <td>CORENGTH</td>\n",
       "      <td>Estación Polea Musculación + Barra Tracción + ...</td>\n",
       "      <td>aparato de cargas guiadas</td>\n",
       "      <td>29.99</td>\n",
       "      <td>49.99</td>\n",
       "      <td>40</td>\n",
       "      <td>https://contents.mediadecathlon.com/p2185557/k...</td>\n",
       "      <td>p/estacion-polea-musculacion-barra-traccion-so...</td>\n",
       "    </tr>\n",
       "    <tr>\n",
       "      <th>1</th>\n",
       "      <td>INDIGO SPORTS</td>\n",
       "      <td>Banda Elástica (Cinta) cerrada 8 agarres INDIG...</td>\n",
       "      <td>Banda elástica</td>\n",
       "      <td>7.99</td>\n",
       "      <td>12.99</td>\n",
       "      <td>38</td>\n",
       "      <td>https://contents.mediadecathlon.com/m15108972/...</td>\n",
       "      <td>p/mp/indigo-sports/banda-elastica-cinta-cerrad...</td>\n",
       "    </tr>\n",
       "    <tr>\n",
       "      <th>2</th>\n",
       "      <td>DOMYOS</td>\n",
       "      <td>Malla Leggings fitness training hombre 500 negro</td>\n",
       "      <td>Leggings</td>\n",
       "      <td>9.99</td>\n",
       "      <td>11.99</td>\n",
       "      <td>16</td>\n",
       "      <td>https://contents.mediadecathlon.com/p1724978/k...</td>\n",
       "      <td>p/malla-leggings-fitness-training-hombre-500-n...</td>\n",
       "    </tr>\n",
       "    <tr>\n",
       "      <th>3</th>\n",
       "      <td>INDIGO SPORTS</td>\n",
       "      <td>Banda Elástica (Cinta) cerrada 8 agarres INDIG...</td>\n",
       "      <td>Banda elástica</td>\n",
       "      <td>7.99</td>\n",
       "      <td>12.99</td>\n",
       "      <td>38</td>\n",
       "      <td>https://contents.mediadecathlon.com/m15109719/...</td>\n",
       "      <td>p/mp/indigo-sports/banda-elastica-cinta-cerrad...</td>\n",
       "    </tr>\n",
       "    <tr>\n",
       "      <th>4</th>\n",
       "      <td>DOMYOS</td>\n",
       "      <td>Leggings Mujer Marrón Sin Costuras Efecto Push Up</td>\n",
       "      <td>Leggings</td>\n",
       "      <td>19.99</td>\n",
       "      <td>25.99</td>\n",
       "      <td>23</td>\n",
       "      <td>https://contents.mediadecathlon.com/p2732550/k...</td>\n",
       "      <td>p/leggings-mujer-marron-sin-costuras-efecto-pu...</td>\n",
       "    </tr>\n",
       "  </tbody>\n",
       "</table>\n",
       "</div>"
      ],
      "text/plain": [
       "           Marca                                       Etiqueta Web  \\\n",
       "0       CORENGTH  Estación Polea Musculación + Barra Tracción + ...   \n",
       "1  INDIGO SPORTS  Banda Elástica (Cinta) cerrada 8 agarres INDIG...   \n",
       "2         DOMYOS   Malla Leggings fitness training hombre 500 negro   \n",
       "3  INDIGO SPORTS  Banda Elástica (Cinta) cerrada 8 agarres INDIG...   \n",
       "4         DOMYOS  Leggings Mujer Marrón Sin Costuras Efecto Push Up   \n",
       "\n",
       "               Tipo Producto  Precio Precio Previo Descuento Aplicado (en %)  \\\n",
       "0  aparato de cargas guiadas   29.99         49.99                        40   \n",
       "1             Banda elástica    7.99         12.99                        38   \n",
       "2                   Leggings    9.99         11.99                        16   \n",
       "3             Banda elástica    7.99         12.99                        38   \n",
       "4                   Leggings   19.99         25.99                        23   \n",
       "\n",
       "                                           Image URL  \\\n",
       "0  https://contents.mediadecathlon.com/p2185557/k...   \n",
       "1  https://contents.mediadecathlon.com/m15108972/...   \n",
       "2  https://contents.mediadecathlon.com/p1724978/k...   \n",
       "3  https://contents.mediadecathlon.com/m15109719/...   \n",
       "4  https://contents.mediadecathlon.com/p2732550/k...   \n",
       "\n",
       "                                         Product URL  \n",
       "0  p/estacion-polea-musculacion-barra-traccion-so...  \n",
       "1  p/mp/indigo-sports/banda-elastica-cinta-cerrad...  \n",
       "2  p/malla-leggings-fitness-training-hombre-500-n...  \n",
       "3  p/mp/indigo-sports/banda-elastica-cinta-cerrad...  \n",
       "4  p/leggings-mujer-marron-sin-costuras-efecto-pu...  "
      ]
     },
     "execution_count": 177,
     "metadata": {},
     "output_type": "execute_result"
    }
   ],
   "source": [
    "df.head(5)"
   ]
  },
  {
   "cell_type": "markdown",
   "metadata": {},
   "source": [
    "### Veamos el tipo de dato de cada columna y el número de no nulos que hay"
   ]
  },
  {
   "cell_type": "code",
   "execution_count": 178,
   "metadata": {},
   "outputs": [
    {
     "name": "stdout",
     "output_type": "stream",
     "text": [
      "<class 'pandas.core.frame.DataFrame'>\n",
      "RangeIndex: 5459 entries, 0 to 5458\n",
      "Data columns (total 8 columns):\n",
      " #   Column                     Non-Null Count  Dtype  \n",
      "---  ------                     --------------  -----  \n",
      " 0   Marca                      5459 non-null   object \n",
      " 1   Etiqueta Web               5459 non-null   object \n",
      " 2   Tipo Producto              5459 non-null   object \n",
      " 3   Precio                     5459 non-null   float64\n",
      " 4   Precio Previo              5459 non-null   object \n",
      " 5   Descuento Aplicado (en %)  5459 non-null   object \n",
      " 6   Image URL                  5459 non-null   object \n",
      " 7   Product URL                5459 non-null   object \n",
      "dtypes: float64(1), object(7)\n",
      "memory usage: 341.3+ KB\n"
     ]
    }
   ],
   "source": [
    "df.info()"
   ]
  },
  {
   "cell_type": "markdown",
   "metadata": {},
   "source": [
    "### Cambiamos a númerico los datos que deberían de serlo"
   ]
  },
  {
   "cell_type": "code",
   "execution_count": 179,
   "metadata": {},
   "outputs": [
    {
     "name": "stdout",
     "output_type": "stream",
     "text": [
      "<class 'pandas.core.frame.DataFrame'>\n",
      "RangeIndex: 5459 entries, 0 to 5458\n",
      "Data columns (total 8 columns):\n",
      " #   Column                     Non-Null Count  Dtype  \n",
      "---  ------                     --------------  -----  \n",
      " 0   Marca                      5459 non-null   object \n",
      " 1   Etiqueta Web               5459 non-null   object \n",
      " 2   Tipo Producto              5459 non-null   object \n",
      " 3   Precio                     5459 non-null   float64\n",
      " 4   Precio Previo              5375 non-null   float64\n",
      " 5   Descuento Aplicado (en %)  5375 non-null   float64\n",
      " 6   Image URL                  5459 non-null   object \n",
      " 7   Product URL                5459 non-null   object \n",
      "dtypes: float64(3), object(5)\n",
      "memory usage: 341.3+ KB\n"
     ]
    }
   ],
   "source": [
    "# Convertir precios y descuentos a tipo numérico\n",
    "df[\"Precio\"] = pd.to_numeric(df[\"Precio\"], errors=\"coerce\")\n",
    "df[\"Precio Previo\"] = pd.to_numeric(df[\"Precio Previo\"], errors=\"coerce\")\n",
    "df[\"Descuento Aplicado (en %)\"] = pd.to_numeric(df[\"Descuento Aplicado (en %)\"], errors=\"coerce\")\n",
    "\n",
    "df.info()\n"
   ]
  },
  {
   "cell_type": "markdown",
   "metadata": {},
   "source": [
    "### Veamos cuantos valores distintos tenemos en el conjunto de datos (por si hay que borrar duplicados)"
   ]
  },
  {
   "cell_type": "code",
   "execution_count": 183,
   "metadata": {},
   "outputs": [
    {
     "name": "stdout",
     "output_type": "stream",
     "text": [
      "El número de valores distintos en 'Product URL' es: 5459\n",
      "La longitud del data set: 5459\n"
     ]
    }
   ],
   "source": [
    "distinct_product_urls = df['Product URL'].nunique()\n",
    "\n",
    "# Mostrar el resultado\n",
    "print(f\"El número de valores distintos en 'Product URL' es: {distinct_product_urls}\")\n",
    "print(f'La longitud del data set: {len(df)}')\n"
   ]
  },
  {
   "cell_type": "markdown",
   "metadata": {},
   "source": [
    "### Comprobemos si el descuento se aplica correctamente al precio de venta"
   ]
  },
  {
   "cell_type": "code",
   "execution_count": null,
   "metadata": {},
   "outputs": [
    {
     "name": "stdout",
     "output_type": "stream",
     "text": [
      "5023\n",
      "Número de descuentos correctos: 4939\n",
      "Número de descuentos incorrectos: 84\n"
     ]
    }
   ],
   "source": [
    "def verificar_descuento(row, margen_error=0.01):\n",
    "    descuento_calculado = ((row[\"Precio Previo\"] - row[\"Precio\"]) / row[\"Precio Previo\"]) * 100\n",
    "    return abs(descuento_calculado - row[\"Descuento Aplicado (en %)\"]) <= margen_error * 100\n",
    "\n",
    "df[\"descuento_correcto\"] = df.apply(verificar_descuento, axis=1)\n",
    "\n",
    "num_true = df[\"descuento_correcto\"].sum()\n",
    "num_false = len(df) - num_true\n",
    "\n",
    "print(f\"Número de descuentos correctos: {num_true}\")\n",
    "print(f\"Número de descuentos incorrectos: {num_false}\")"
   ]
  },
  {
   "cell_type": "markdown",
   "metadata": {},
   "source": [
    "### Parece ser que hay varios descuento que no se aplican correctamente, indaguemos más en el conjunto de datos"
   ]
  },
  {
   "cell_type": "code",
   "execution_count": 193,
   "metadata": {},
   "outputs": [
    {
     "name": "stdout",
     "output_type": "stream",
     "text": [
      "\n",
      "Productos con descuentos incorrectos:\n"
     ]
    },
    {
     "data": {
      "text/html": [
       "<div>\n",
       "<style scoped>\n",
       "    .dataframe tbody tr th:only-of-type {\n",
       "        vertical-align: middle;\n",
       "    }\n",
       "\n",
       "    .dataframe tbody tr th {\n",
       "        vertical-align: top;\n",
       "    }\n",
       "\n",
       "    .dataframe thead th {\n",
       "        text-align: right;\n",
       "    }\n",
       "</style>\n",
       "<table border=\"1\" class=\"dataframe\">\n",
       "  <thead>\n",
       "    <tr style=\"text-align: right;\">\n",
       "      <th></th>\n",
       "      <th>Marca</th>\n",
       "      <th>Etiqueta Web</th>\n",
       "      <th>Tipo Producto</th>\n",
       "      <th>Precio</th>\n",
       "      <th>Precio Previo</th>\n",
       "      <th>Descuento Aplicado (en %)</th>\n",
       "      <th>Image URL</th>\n",
       "      <th>Product URL</th>\n",
       "      <th>descuento_correcto</th>\n",
       "    </tr>\n",
       "  </thead>\n",
       "  <tbody>\n",
       "    <tr>\n",
       "      <th>50</th>\n",
       "      <td>VIRTUFIT</td>\n",
       "      <td>Disco de pesas - Disco de parachoques - Fitnes...</td>\n",
       "      <td>Discos de pesas de musculación</td>\n",
       "      <td>30.95</td>\n",
       "      <td>NaN</td>\n",
       "      <td>NaN</td>\n",
       "      <td>https://contents.mediadecathlon.com/m16730923/...</td>\n",
       "      <td>p/mp/virtufit/disco-de-pesas-disco-de-parachoq...</td>\n",
       "      <td>False</td>\n",
       "    </tr>\n",
       "    <tr>\n",
       "      <th>74</th>\n",
       "      <td>VIRTUFIT</td>\n",
       "      <td>Mancuerna Hexágono - Dumbbell - Por pieza - 1 ...</td>\n",
       "      <td>pesas ; mancuernas</td>\n",
       "      <td>13.95</td>\n",
       "      <td>NaN</td>\n",
       "      <td>NaN</td>\n",
       "      <td>https://contents.mediadecathlon.com/m16733029/...</td>\n",
       "      <td>p/mp/virtufit/mancuerna-hexagono-dumbbell-por-...</td>\n",
       "      <td>False</td>\n",
       "    </tr>\n",
       "    <tr>\n",
       "      <th>111</th>\n",
       "      <td>ECRAN</td>\n",
       "      <td>Crema solar Sport cara y cuerpo F50 40 ml</td>\n",
       "      <td>Crema solar</td>\n",
       "      <td>7.25</td>\n",
       "      <td>NaN</td>\n",
       "      <td>NaN</td>\n",
       "      <td>https://contents.mediadecathlon.com/p2044348/k...</td>\n",
       "      <td>p/crema-solar-sport-cara-y-cuerpo-f50-40-ml/_/...</td>\n",
       "      <td>False</td>\n",
       "    </tr>\n",
       "    <tr>\n",
       "      <th>127</th>\n",
       "      <td>VIRTUFIT</td>\n",
       "      <td>Mikebell - entrenamiento funcional - Negro</td>\n",
       "      <td>masa</td>\n",
       "      <td>40.95</td>\n",
       "      <td>NaN</td>\n",
       "      <td>NaN</td>\n",
       "      <td>https://contents.mediadecathlon.com/m19666108/...</td>\n",
       "      <td>p/mp/virtufit/mikebell-entrenamiento-funcional...</td>\n",
       "      <td>False</td>\n",
       "    </tr>\n",
       "    <tr>\n",
       "      <th>151</th>\n",
       "      <td>FITNESS TECH</td>\n",
       "      <td>Multipower Smith Machine S9000 Fitness Tech</td>\n",
       "      <td>aparato multifunción</td>\n",
       "      <td>1899.99</td>\n",
       "      <td>NaN</td>\n",
       "      <td>NaN</td>\n",
       "      <td>https://contents.mediadecathlon.com/m19026435/...</td>\n",
       "      <td>p/mp/fitness-tech/multipower-smith-machine-s90...</td>\n",
       "      <td>False</td>\n",
       "    </tr>\n",
       "  </tbody>\n",
       "</table>\n",
       "</div>"
      ],
      "text/plain": [
       "            Marca                                       Etiqueta Web  \\\n",
       "50       VIRTUFIT  Disco de pesas - Disco de parachoques - Fitnes...   \n",
       "74       VIRTUFIT  Mancuerna Hexágono - Dumbbell - Por pieza - 1 ...   \n",
       "111         ECRAN          Crema solar Sport cara y cuerpo F50 40 ml   \n",
       "127      VIRTUFIT         Mikebell - entrenamiento funcional - Negro   \n",
       "151  FITNESS TECH        Multipower Smith Machine S9000 Fitness Tech   \n",
       "\n",
       "                      Tipo Producto   Precio  Precio Previo  \\\n",
       "50   Discos de pesas de musculación    30.95            NaN   \n",
       "74               pesas ; mancuernas    13.95            NaN   \n",
       "111                     Crema solar     7.25            NaN   \n",
       "127                            masa    40.95            NaN   \n",
       "151            aparato multifunción  1899.99            NaN   \n",
       "\n",
       "     Descuento Aplicado (en %)  \\\n",
       "50                         NaN   \n",
       "74                         NaN   \n",
       "111                        NaN   \n",
       "127                        NaN   \n",
       "151                        NaN   \n",
       "\n",
       "                                             Image URL  \\\n",
       "50   https://contents.mediadecathlon.com/m16730923/...   \n",
       "74   https://contents.mediadecathlon.com/m16733029/...   \n",
       "111  https://contents.mediadecathlon.com/p2044348/k...   \n",
       "127  https://contents.mediadecathlon.com/m19666108/...   \n",
       "151  https://contents.mediadecathlon.com/m19026435/...   \n",
       "\n",
       "                                           Product URL  descuento_correcto  \n",
       "50   p/mp/virtufit/disco-de-pesas-disco-de-parachoq...               False  \n",
       "74   p/mp/virtufit/mancuerna-hexagono-dumbbell-por-...               False  \n",
       "111  p/crema-solar-sport-cara-y-cuerpo-f50-40-ml/_/...               False  \n",
       "127  p/mp/virtufit/mikebell-entrenamiento-funcional...               False  \n",
       "151  p/mp/fitness-tech/multipower-smith-machine-s90...               False  "
      ]
     },
     "execution_count": 193,
     "metadata": {},
     "output_type": "execute_result"
    }
   ],
   "source": [
    "df_falsos = df[df[\"descuento_correcto\"] == False]\n",
    "print(\"\\nProductos con descuentos incorrectos:\")\n",
    "df_falsos.head(5)"
   ]
  },
  {
   "cell_type": "code",
   "execution_count": 195,
   "metadata": {},
   "outputs": [
    {
     "name": "stdout",
     "output_type": "stream",
     "text": [
      "¿Todos los descuentos aplicados en df_falsos son NaN?: True\n"
     ]
    }
   ],
   "source": [
    "# Comprobar si los descuentos aplicados son NaN en df_falsos\n",
    "descuentos_nan = df_falsos[\"Descuento Aplicado (en %)\"].isna().all()\n",
    "print(f\"¿Todos los descuentos aplicados en df_falsos son NaN?: {descuentos_nan}\")"
   ]
  },
  {
   "cell_type": "markdown",
   "metadata": {},
   "source": [
    "# AED"
   ]
  },
  {
   "cell_type": "markdown",
   "metadata": {},
   "source": [
    "## Ordenemos el conjunto de datos por el descuento aplicado ordenado de mayor a menor"
   ]
  },
  {
   "cell_type": "code",
   "execution_count": 209,
   "metadata": {},
   "outputs": [
    {
     "name": "stdout",
     "output_type": "stream",
     "text": [
      "\n",
      "DataFrame ordenado por mayor descuento aplicado:\n",
      "                Marca                                       Etiqueta Web  \\\n",
      "1295             AMIX  CellUp Energy Shot - 60ml Cola de AmiXpro® series   \n",
      "1294             AMIX  CellUp Energy Shot - 60ml Cola de AmiXpro® series   \n",
      "4233    MMSUPPLEMENTS  Cafeína - 120 Cápsulas Vegetales de MM Supplem...   \n",
      "514    AESTHETIC WOLF  Aesthetic Wolf Camiseta de Oración - Hombre - ...   \n",
      "1267  NORTHERN SPIRIT  Camiseta mujer rayas logo Northern Spirit Fren...   \n",
      "...               ...                                                ...   \n",
      "5436          PHOENIX    Botella Fitness Negro Blanco Motivación 1 Litro   \n",
      "5447      SLENDERTONE                     Cinturón abdominal ABS7 unisex   \n",
      "5449          BIEMANS                           MEDALLA NEUTRA 70 mm ORO   \n",
      "5454           DOMYOS  Sujetador-Top Mujer Negro Espalda Cruzada Suje...   \n",
      "5455           DOMYOS  Pantalón Corto Fitness Amarillo Pastel Bolsill...   \n",
      "\n",
      "      Descuento Aplicado (en %)  \n",
      "1295                       94.0  \n",
      "1294                       94.0  \n",
      "4233                       76.0  \n",
      "514                        75.0  \n",
      "1267                       74.0  \n",
      "...                         ...  \n",
      "5436                        NaN  \n",
      "5447                        NaN  \n",
      "5449                        NaN  \n",
      "5454                        NaN  \n",
      "5455                        NaN  \n",
      "\n",
      "[5023 rows x 3 columns]\n"
     ]
    }
   ],
   "source": [
    "df_sorted = df.sort_values(by=\"Descuento Aplicado (en %)\", ascending=False)\n",
    "print(\"\\nDataFrame ordenado por mayor descuento aplicado:\")\n",
    "print(df_sorted[[\"Marca\", \"Etiqueta Web\",\"Descuento Aplicado (en %)\"]])"
   ]
  },
  {
   "cell_type": "markdown",
   "metadata": {},
   "source": [
    "## Veamos si existe alguna relación entre el descuento aplicado y el precio del producto"
   ]
  },
  {
   "cell_type": "code",
   "execution_count": null,
   "metadata": {},
   "outputs": [
    {
     "name": "stderr",
     "output_type": "stream",
     "text": [
      "No artists with labels found to put in legend.  Note that artists whose label start with an underscore are ignored when legend() is called with no argument.\n"
     ]
    },
    {
     "data": {
      "image/png": "[encoded data removed]",
      "text/plain": [
       "<Figure size 800x500 with 1 Axes>"
      ]
     },
     "metadata": {},
     "output_type": "display_data"
    }
   ],
   "source": [
    "plt.figure(figsize=(8, 5))\n",
    "sns.scatterplot(\n",
    "    x=\"Precio\",\n",
    "    y=\"Descuento Aplicado (en %)\",\n",
    "    data=df_sorted\n",
    ")\n",
    "\n",
    "plt.title(\"Relación entre Precio y Descuento Aplicado\", fontsize=16)\n",
    "plt.xlabel(\"Precio\", fontsize=12)\n",
    "plt.ylabel(\"Descuento Aplicado (%)\", fontsize=12)\n",
    "plt.legend(bbox_to_anchor=(1.05, 1), loc='upper left')\n",
    "plt.tight_layout()\n",
    "plt.show()"
   ]
  },
  {
   "cell_type": "markdown",
   "metadata": {},
   "source": [
    "## Realizamos una prueba anova rápida para ver si hay variables que influyen en el Descuento Aplicado"
   ]
  },
  {
   "cell_type": "code",
   "execution_count": 219,
   "metadata": {},
   "outputs": [
    {
     "name": "stdout",
     "output_type": "stream",
     "text": [
      "Resultados del ANOVA:\n",
      "                      df         sum_sq      mean_sq          F        PR(>F)\n",
      "C(Marca)           249.0  414513.430124  1664.712571  23.003618  0.000000e+00\n",
      "C(Tipo_Producto)   256.0   52788.902738   206.206651   2.849440  3.769950e-42\n",
      "Precio               1.0    3291.028042  3291.028042  45.476651  1.742258e-11\n",
      "Residual          4453.0  322252.134900    72.367423        NaN           NaN\n",
      "El factor 'C(Marca)' tiene un efecto significativo en el descuento aplicado (p = 0.0000).\n",
      "El factor 'C(Tipo_Producto)' tiene un efecto significativo en el descuento aplicado (p = 0.0000).\n",
      "El factor 'Precio' tiene un efecto significativo en el descuento aplicado (p = 0.0000).\n",
      "El factor 'Residual' no tiene un efecto significativo en el descuento aplicado (p = nan).\n"
     ]
    }
   ],
   "source": [
    "# Realizar ANOVA\n",
    "df = df.rename(columns={\"Descuento Aplicado (en %)\": \"Descuento_Aplicado\", 'Tipo Producto':'Tipo_Producto'})\n",
    "modelo = ols(\"Descuento_Aplicado ~ C(Marca) + C(Tipo_Producto) + Precio\", data=df).fit()\n",
    "anova_resultados = anova_lm(modelo)\n",
    "\n",
    "print(\"Resultados del ANOVA:\")\n",
    "print(anova_resultados)\n",
    "\n",
    "# Interpretar los resultados\n",
    "for factor, p_valor in anova_resultados[\"PR(>F)\"].items():\n",
    "    if p_valor < 0.05:\n",
    "        print(f\"El factor '{factor}' tiene un efecto significativo en el descuento aplicado (p = {p_valor:.4f}).\")\n",
    "    else:\n",
    "        print(f\"El factor '{factor}' no tiene un efecto significativo en el descuento aplicado (p = {p_valor:.4f}).\")"
   ]
  },
  {
   "cell_type": "markdown",
   "metadata": {},
   "source": [
    "# Exportamos el conjunto de datos ordenado por Descuento Aplicado a un documento CSV"
   ]
  },
  {
   "cell_type": "code",
   "execution_count": 220,
   "metadata": {},
   "outputs": [
    {
     "name": "stdout",
     "output_type": "stream",
     "text": [
      "Datos exportados a 'productos_paginas.csv'\n"
     ]
    }
   ],
   "source": [
    "df_sorted.to_csv('productos_paginas.csv', index=False, encoding='utf-8')\n",
    "\n",
    "print(\"Datos exportados a 'productos_paginas.csv'\")\n"
   ]
  }
 ],
 "metadata": {
  "kernelspec": {
   "display_name": "base",
   "language": "python",
   "name": "python3"
  },
  "language_info": {
   "codemirror_mode": {
    "name": "ipython",
    "version": 3
   },
   "file_extension": ".py",
   "mimetype": "text/x-python",
   "name": "python",
   "nbconvert_exporter": "python",
   "pygments_lexer": "ipython3",
   "version": "3.11.7"
  }
 },
 "nbformat": 4,
 "nbformat_minor": 2
}
